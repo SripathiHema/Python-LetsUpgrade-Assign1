{
 "cells": [
  {
   "cell_type": "markdown",
   "metadata": {},
   "source": [
    "# Question 1) Try Five Different Function Of String In Python\n",
    "                        "
   ]
  },
  {
   "cell_type": "code",
   "execution_count": 12,
   "metadata": {},
   "outputs": [
    {
     "name": "stdout",
     "output_type": "stream",
     "text": [
      "Enter String\n",
      "python program with five different functions example\n",
      "length of string= 52\n",
      "String after split  ['python', 'program', 'with', 'five', 'different', 'functions', 'example']\n",
      "enter the word of which you want index\n",
      "diff\n",
      "the index is  25\n",
      "string converted into upper case  PYTHON PROGRAM WITH FIVE DIFFERENT FUNCTIONS EXAMPLE\n",
      "enter the word you want to be replaced with another word\n",
      "five\n",
      "enter the word you want to place in place of past word\n",
      " 5\n",
      "string after replaced  python program with 5 different functions example\n"
     ]
    }
   ],
   "source": [
    "s=input(\"Enter String\\n\")\n",
    "#1st function len() to find out the length of string\n",
    "print(\"length of string=\",len(s))\n",
    "#2nd function split() \n",
    "print(\"String after split \",s.split(\" \"))\n",
    "#3rd function index()\n",
    "i=input(\"enter the word of which you want index\\n\")\n",
    "print(\"the index is \",s.index(i))\n",
    "#4th function upper()\n",
    "print(\"string converted into upper case \",s.upper())\n",
    "#5th function replace()\n",
    "r=input(\"enter the word you want to be replaced with another word\\n\")\n",
    "rr=input(\"enter the word you want to place in place of past word\\n \")\n",
    "print(\"string after replaced \",s.replace(r,rr))"
   ]
  },
  {
   "cell_type": "markdown",
   "metadata": {},
   "source": [
    "# question 2) Try 5 Different functions of list object"
   ]
  },
  {
   "cell_type": "code",
   "execution_count": 18,
   "metadata": {},
   "outputs": [
    {
     "name": "stdout",
     "output_type": "stream",
     "text": [
      "length of list= 7\n",
      "type= <class 'list'>\n",
      "['Hema', 'Jaggi', 'Liza', 'Suman', 'eswar', 'Rakesh', 'Sweta', 'pabitra']\n",
      "['Hema', 'Jaggi', 'Liza', 'Suman', 'eswar', 'Rakesh', 'Sweta', 'pabitra', 'eswar']\n",
      "['Hema', 'Jaggi', 'Liza', 'Suman', 'eswar', 'Rakesh', 'Sweta', 'pabitra', 'eswar', 1, 2, 3, 4, 5, 6, 7, 8, 9]\n"
     ]
    }
   ],
   "source": [
    "Students=[\"Hema\",\"Jaggi\",\"Liza\",\"Suman\",\"Rakesh\",\"Sweta\",\"pabitra\"]\n",
    "#1st function len() to find out the length of list\n",
    "print(\"length of list=\",len(Students))\n",
    "#2nd function type()\n",
    "print(\"type=\",type(Students))\n",
    "#3rd function insert()\n",
    "Students.insert(4,\"eswar\")\n",
    "print(Students)\n",
    "#4th function append()\n",
    "Students.append(\"eswar\")\n",
    "print(Students)\n",
    "#5th function extend()\n",
    "roll=[1,2,3,4,5,6,7,8,9]\n",
    "Students.extend(roll)\n",
    "print(Students)"
   ]
  },
  {
   "cell_type": "markdown",
   "metadata": {},
   "source": [
    "# question 3) Experiment with atleast 5 Default functions of dictionary "
   ]
  },
  {
   "cell_type": "code",
   "execution_count": 23,
   "metadata": {},
   "outputs": [
    {
     "name": "stdout",
     "output_type": "stream",
     "text": [
      "length of dictionary= 3\n",
      "type= <class 'dict'>\n",
      "MCA\n",
      "dict_keys(['BCA', 'BTech', 'BBA'])\n",
      "dict_values(['MCA', 'MTech', 'MBA'])\n"
     ]
    }
   ],
   "source": [
    "course={\"BCA\":\"MCA\",\"BTech\":\"MTech\",\"BBA\":\"MBA\"}\n",
    "#1st function len() to find out the length of dictionary\n",
    "print(\"length of dictionary=\",len(course))\n",
    "#2nd function type()\n",
    "print(\"type=\",type(course))\n",
    "#3rd function get()\n",
    "print(course.get(\"BCA\"))\n",
    "#4th function keys()\n",
    "print(course.keys())\n",
    "#5th function values()\n",
    "print(course.values())"
   ]
  }
 ],
 "metadata": {
  "kernelspec": {
   "display_name": "Python 3",
   "language": "python",
   "name": "python3"
  },
  "language_info": {
   "codemirror_mode": {
    "name": "ipython",
    "version": 3
   },
   "file_extension": ".py",
   "mimetype": "text/x-python",
   "name": "python",
   "nbconvert_exporter": "python",
   "pygments_lexer": "ipython3",
   "version": "3.8.3"
  }
 },
 "nbformat": 4,
 "nbformat_minor": 4
}
